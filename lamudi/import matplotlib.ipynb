import matplotlib.pyplot as plt
import numpy as np

# Datos
edad = ['0-19', '20-34', '35-49', '50-64', '65+']
hombres = [45805, 37301, 29974, 23054, 12311]
mujeres = [44962, 38950, 35387, 28452, 1590]

# Crear las barras
fig, ax = plt.subplots()
bar_width = 0.35
index = np.arange(len(edad))

bar1 = ax.bar(index, hombres, bar_width, label='Hombres')
bar2 = ax.bar(index, mujeres, bar_width, bottom=hombres, label='Mujeres')

# Etiquetas del gráfico
ax.set_xlabel('Edad')
ax.set_ylabel('Población')
ax.set_title('Población de Pachuca, Hidalgo por edad y género')
ax.set_xticks(index)
ax.set_xticklabels(edad)
ax.legend()

# Mostrar el gráfico
plt.show()
